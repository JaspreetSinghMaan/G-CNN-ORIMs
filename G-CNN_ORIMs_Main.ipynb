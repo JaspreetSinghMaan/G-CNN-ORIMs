{
  "nbformat": 4,
  "nbformat_minor": 0,
  "metadata": {
    "colab": {
      "name": "AISTATs2022_MNISTROT.ipynb",
      "provenance": [],
      "collapsed_sections": []
    },
    "kernelspec": {
      "display_name": "Python 3",
      "name": "python3"
    },
    "language_info": {
      "name": "python"
    },
    "accelerator": "GPU"
  },
  "cells": [
    {
      "cell_type": "markdown",
      "metadata": {
        "id": "FaNIHTrY_70O"
      },
      "source": [
        "*AISTATS 2022 Submission #342*\n",
        "\n",
        "*Title: Learning Invariant Representations for Equivariant Neural Networks Using Orthogonal Moments*\n",
        "\n",
        "Paper ID: 342\n",
        "\n",
        "Date: Nov 20, 2021\n",
        "\n",
        "This Demo is tested in Google Colab:\n",
        "- Browser Google Chrome Version 92.0.4515.107 (Official Build) (64-bit)"
      ]
    },
    {
      "cell_type": "code",
      "metadata": {
        "colab": {
          "base_uri": "https://localhost:8080/"
        },
        "id": "Tg9timmirBVG",
        "outputId": "1ed98bab-0772-44d9-c0ad-c897c1fe19c5"
      },
      "source": [
        "pip install tensorflow==1.15"
      ],
      "execution_count": 1,
      "outputs": [
        {
          "output_type": "stream",
          "name": "stdout",
          "text": [
            "Collecting tensorflow==1.15\n",
            "  Downloading tensorflow-1.15.0-cp37-cp37m-manylinux2010_x86_64.whl (412.3 MB)\n",
            "\u001b[K     |████████████████████████████████| 412.3 MB 27 kB/s \n",
            "\u001b[?25hRequirement already satisfied: protobuf>=3.6.1 in /usr/local/lib/python3.7/dist-packages (from tensorflow==1.15) (3.17.3)\n",
            "Collecting gast==0.2.2\n",
            "  Downloading gast-0.2.2.tar.gz (10 kB)\n",
            "Requirement already satisfied: absl-py>=0.7.0 in /usr/local/lib/python3.7/dist-packages (from tensorflow==1.15) (0.12.0)\n",
            "Requirement already satisfied: keras-preprocessing>=1.0.5 in /usr/local/lib/python3.7/dist-packages (from tensorflow==1.15) (1.1.2)\n",
            "Requirement already satisfied: astor>=0.6.0 in /usr/local/lib/python3.7/dist-packages (from tensorflow==1.15) (0.8.1)\n",
            "Requirement already satisfied: numpy<2.0,>=1.16.0 in /usr/local/lib/python3.7/dist-packages (from tensorflow==1.15) (1.19.5)\n",
            "Requirement already satisfied: grpcio>=1.8.6 in /usr/local/lib/python3.7/dist-packages (from tensorflow==1.15) (1.42.0)\n",
            "Requirement already satisfied: wheel>=0.26 in /usr/local/lib/python3.7/dist-packages (from tensorflow==1.15) (0.37.0)\n",
            "Requirement already satisfied: google-pasta>=0.1.6 in /usr/local/lib/python3.7/dist-packages (from tensorflow==1.15) (0.2.0)\n",
            "Requirement already satisfied: six>=1.10.0 in /usr/local/lib/python3.7/dist-packages (from tensorflow==1.15) (1.15.0)\n",
            "Requirement already satisfied: opt-einsum>=2.3.2 in /usr/local/lib/python3.7/dist-packages (from tensorflow==1.15) (3.3.0)\n",
            "Requirement already satisfied: termcolor>=1.1.0 in /usr/local/lib/python3.7/dist-packages (from tensorflow==1.15) (1.1.0)\n",
            "Collecting tensorflow-estimator==1.15.1\n",
            "  Downloading tensorflow_estimator-1.15.1-py2.py3-none-any.whl (503 kB)\n",
            "\u001b[K     |████████████████████████████████| 503 kB 47.6 MB/s \n",
            "\u001b[?25hCollecting keras-applications>=1.0.8\n",
            "  Downloading Keras_Applications-1.0.8-py3-none-any.whl (50 kB)\n",
            "\u001b[K     |████████████████████████████████| 50 kB 7.1 MB/s \n",
            "\u001b[?25hRequirement already satisfied: wrapt>=1.11.1 in /usr/local/lib/python3.7/dist-packages (from tensorflow==1.15) (1.13.3)\n",
            "Collecting tensorboard<1.16.0,>=1.15.0\n",
            "  Downloading tensorboard-1.15.0-py3-none-any.whl (3.8 MB)\n",
            "\u001b[K     |████████████████████████████████| 3.8 MB 47.0 MB/s \n",
            "\u001b[?25hRequirement already satisfied: h5py in /usr/local/lib/python3.7/dist-packages (from keras-applications>=1.0.8->tensorflow==1.15) (3.1.0)\n",
            "Requirement already satisfied: setuptools>=41.0.0 in /usr/local/lib/python3.7/dist-packages (from tensorboard<1.16.0,>=1.15.0->tensorflow==1.15) (57.4.0)\n",
            "Requirement already satisfied: markdown>=2.6.8 in /usr/local/lib/python3.7/dist-packages (from tensorboard<1.16.0,>=1.15.0->tensorflow==1.15) (3.3.6)\n",
            "Requirement already satisfied: werkzeug>=0.11.15 in /usr/local/lib/python3.7/dist-packages (from tensorboard<1.16.0,>=1.15.0->tensorflow==1.15) (1.0.1)\n",
            "Requirement already satisfied: importlib-metadata>=4.4 in /usr/local/lib/python3.7/dist-packages (from markdown>=2.6.8->tensorboard<1.16.0,>=1.15.0->tensorflow==1.15) (4.8.2)\n",
            "Requirement already satisfied: zipp>=0.5 in /usr/local/lib/python3.7/dist-packages (from importlib-metadata>=4.4->markdown>=2.6.8->tensorboard<1.16.0,>=1.15.0->tensorflow==1.15) (3.6.0)\n",
            "Requirement already satisfied: typing-extensions>=3.6.4 in /usr/local/lib/python3.7/dist-packages (from importlib-metadata>=4.4->markdown>=2.6.8->tensorboard<1.16.0,>=1.15.0->tensorflow==1.15) (3.10.0.2)\n",
            "Requirement already satisfied: cached-property in /usr/local/lib/python3.7/dist-packages (from h5py->keras-applications>=1.0.8->tensorflow==1.15) (1.5.2)\n",
            "Building wheels for collected packages: gast\n",
            "  Building wheel for gast (setup.py) ... \u001b[?25l\u001b[?25hdone\n",
            "  Created wheel for gast: filename=gast-0.2.2-py3-none-any.whl size=7554 sha256=281d591b13dba2d16637972ecc9e08ea41b4931b94fde871f9e45119565db8f5\n",
            "  Stored in directory: /root/.cache/pip/wheels/21/7f/02/420f32a803f7d0967b48dd823da3f558c5166991bfd204eef3\n",
            "Successfully built gast\n",
            "Installing collected packages: tensorflow-estimator, tensorboard, keras-applications, gast, tensorflow\n",
            "  Attempting uninstall: tensorflow-estimator\n",
            "    Found existing installation: tensorflow-estimator 2.7.0\n",
            "    Uninstalling tensorflow-estimator-2.7.0:\n",
            "      Successfully uninstalled tensorflow-estimator-2.7.0\n",
            "  Attempting uninstall: tensorboard\n",
            "    Found existing installation: tensorboard 2.7.0\n",
            "    Uninstalling tensorboard-2.7.0:\n",
            "      Successfully uninstalled tensorboard-2.7.0\n",
            "  Attempting uninstall: gast\n",
            "    Found existing installation: gast 0.4.0\n",
            "    Uninstalling gast-0.4.0:\n",
            "      Successfully uninstalled gast-0.4.0\n",
            "  Attempting uninstall: tensorflow\n",
            "    Found existing installation: tensorflow 2.7.0\n",
            "    Uninstalling tensorflow-2.7.0:\n",
            "      Successfully uninstalled tensorflow-2.7.0\n",
            "\u001b[31mERROR: pip's dependency resolver does not currently take into account all the packages that are installed. This behaviour is the source of the following dependency conflicts.\n",
            "tensorflow-probability 0.15.0 requires gast>=0.3.2, but you have gast 0.2.2 which is incompatible.\n",
            "kapre 0.3.6 requires tensorflow>=2.0.0, but you have tensorflow 1.15.0 which is incompatible.\u001b[0m\n",
            "Successfully installed gast-0.2.2 keras-applications-1.0.8 tensorboard-1.15.0 tensorflow-1.15.0 tensorflow-estimator-1.15.1\n"
          ]
        }
      ]
    },
    {
      "cell_type": "code",
      "metadata": {
        "id": "AYncGKaYrIzh"
      },
      "source": [
        "#import sys\n",
        "#from google.colab import drive\n",
        "#drive.mount('/content/drive')\n",
        "#sys.path.append('/content/drive/My Drive/SE2CNN-master/')"
      ],
      "execution_count": 2,
      "outputs": []
    },
    {
      "cell_type": "code",
      "metadata": {
        "id": "PwHjdNRksANs"
      },
      "source": [
        "# Impor tensorflow and numpy\n",
        "import tensorflow as tf\n",
        "import numpy as np\n",
        "import math as m\n",
        "import time\n",
        "# For validation\n",
        "from sklearn.metrics import confusion_matrix\n",
        "import itertools\n",
        "\n",
        "# For plotting\n",
        "from matplotlib import pyplot as plt"
      ],
      "execution_count": 3,
      "outputs": []
    },
    {
      "cell_type": "markdown",
      "metadata": {
        "id": "xkqsFZusZQXC"
      },
      "source": [
        "Import the Group convolutional library and ORIM-based (i.e., PZMs) pooling layer"
      ]
    },
    {
      "cell_type": "code",
      "metadata": {
        "id": "MHMXIBbL6q8T"
      },
      "source": [
        "# Import the libraries\n",
        "import se2cnn.layers\n",
        "from ORIM_PZM import PZM"
      ],
      "execution_count": 4,
      "outputs": []
    },
    {
      "cell_type": "code",
      "metadata": {
        "id": "yMnaxymhsMTe"
      },
      "source": [
        "#help(se2cnn.layers.z2_se2n)\n",
        "#help(se2cnn.layers.se2n_se2n)\n",
        "#help(se2cnn.layers.spatial_max_pool)"
      ],
      "execution_count": 5,
      "outputs": []
    },
    {
      "cell_type": "code",
      "metadata": {
        "id": "W6Gs0IUysTZz"
      },
      "source": [
        "# Xavier's/He-Rang-Zhen-Sun initialization for layers that are followed ReLU\n",
        "def weight_initializer(n_in, n_out):\n",
        "    return tf.random_normal_initializer(mean=0.0, stddev=m.sqrt(2.0 / (n_in))\n",
        "    )"
      ],
      "execution_count": 6,
      "outputs": []
    },
    {
      "cell_type": "code",
      "metadata": {
        "id": "ZSvHxoezsW__"
      },
      "source": [
        "def plot_confusion_matrix(cm, classes,\n",
        "                          normalize=False,\n",
        "                          title='Confusion matrix',\n",
        "                          cmap=plt.cm.Blues):\n",
        "    \"\"\"\n",
        "    This function prints and plots the confusion matrix.\n",
        "    Normalization can be applied by setting `normalize=True`.\n",
        "    \"\"\"\n",
        "    if normalize:\n",
        "        cm = cm.astype('float') / cm.sum(axis=1)[:, np.newaxis]\n",
        "        print(\"Normalized confusion matrix\")\n",
        "    else:\n",
        "        print('Confusion matrix, without normalization')\n",
        "\n",
        "    plt.imshow(cm, interpolation='nearest', cmap=cmap)\n",
        "    plt.title(title)\n",
        "    plt.colorbar()\n",
        "    tick_marks = np.arange(len(classes))\n",
        "    plt.xticks(tick_marks, classes, rotation=45)\n",
        "    plt.yticks(tick_marks, classes)\n",
        "\n",
        "    fmt = '.2f' if normalize else 'd'\n",
        "    thresh = cm.max() / 2.\n",
        "    for i, j in itertools.product(range(cm.shape[0]), range(cm.shape[1])):\n",
        "        plt.text(j, i, format(cm[i, j], fmt),\n",
        "                 horizontalalignment=\"center\",\n",
        "                 color=\"white\" if cm[i, j] > thresh else \"black\")\n",
        "\n",
        "    plt.tight_layout()\n",
        "    plt.ylabel('True label')\n",
        "    plt.xlabel('Predicted label')"
      ],
      "execution_count": 7,
      "outputs": []
    },
    {
      "cell_type": "code",
      "metadata": {
        "id": "bKgAv6LWsqn3"
      },
      "source": [
        "def size_of(tensor) :\n",
        "    # Multiply elements one by one\n",
        "    result = 1\n",
        "    for x in tensor.get_shape().as_list():\n",
        "         result = result * x \n",
        "    return result"
      ],
      "execution_count": 8,
      "outputs": []
    },
    {
      "cell_type": "markdown",
      "metadata": {
        "id": "eNLwl1-dZ3zX"
      },
      "source": [
        "Load the MNIST dataset for the experiments"
      ]
    },
    {
      "cell_type": "code",
      "metadata": {
        "colab": {
          "base_uri": "https://localhost:8080/"
        },
        "id": "w2-h6mtmhrcd",
        "outputId": "531984f4-17ff-4999-9b12-4e0c0463da6e"
      },
      "source": [
        "from tensorflow.examples.tutorials.mnist import input_data\n",
        "mnist = input_data.read_data_sets(\"/tmp/data/\")"
      ],
      "execution_count": 9,
      "outputs": [
        {
          "output_type": "stream",
          "name": "stdout",
          "text": [
            "WARNING:tensorflow:From <ipython-input-9-c50d5bb4a85c>:2: read_data_sets (from tensorflow.contrib.learn.python.learn.datasets.mnist) is deprecated and will be removed in a future version.\n",
            "Instructions for updating:\n",
            "Please use alternatives such as official/mnist/dataset.py from tensorflow/models.\n",
            "WARNING:tensorflow:From /usr/local/lib/python3.7/dist-packages/tensorflow_core/contrib/learn/python/learn/datasets/mnist.py:260: maybe_download (from tensorflow.contrib.learn.python.learn.datasets.base) is deprecated and will be removed in a future version.\n",
            "Instructions for updating:\n",
            "Please write your own downloading logic.\n",
            "WARNING:tensorflow:From /usr/local/lib/python3.7/dist-packages/tensorflow_core/contrib/learn/python/learn/datasets/base.py:252: _internal_retry.<locals>.wrap.<locals>.wrapped_fn (from tensorflow.contrib.learn.python.learn.datasets.base) is deprecated and will be removed in a future version.\n",
            "Instructions for updating:\n",
            "Please use urllib or similar directly.\n",
            "Successfully downloaded train-images-idx3-ubyte.gz 9912422 bytes.\n",
            "WARNING:tensorflow:From /usr/local/lib/python3.7/dist-packages/tensorflow_core/contrib/learn/python/learn/datasets/mnist.py:262: extract_images (from tensorflow.contrib.learn.python.learn.datasets.mnist) is deprecated and will be removed in a future version.\n",
            "Instructions for updating:\n",
            "Please use tf.data to implement this functionality.\n",
            "Extracting /tmp/data/train-images-idx3-ubyte.gz\n",
            "Successfully downloaded train-labels-idx1-ubyte.gz 28881 bytes.\n",
            "WARNING:tensorflow:From /usr/local/lib/python3.7/dist-packages/tensorflow_core/contrib/learn/python/learn/datasets/mnist.py:267: extract_labels (from tensorflow.contrib.learn.python.learn.datasets.mnist) is deprecated and will be removed in a future version.\n",
            "Instructions for updating:\n",
            "Please use tf.data to implement this functionality.\n",
            "Extracting /tmp/data/train-labels-idx1-ubyte.gz\n",
            "Successfully downloaded t10k-images-idx3-ubyte.gz 1648877 bytes.\n",
            "Extracting /tmp/data/t10k-images-idx3-ubyte.gz\n",
            "Successfully downloaded t10k-labels-idx1-ubyte.gz 4542 bytes.\n",
            "Extracting /tmp/data/t10k-labels-idx1-ubyte.gz\n",
            "WARNING:tensorflow:From /usr/local/lib/python3.7/dist-packages/tensorflow_core/contrib/learn/python/learn/datasets/mnist.py:290: DataSet.__init__ (from tensorflow.contrib.learn.python.learn.datasets.mnist) is deprecated and will be removed in a future version.\n",
            "Instructions for updating:\n",
            "Please use alternatives such as official/mnist/dataset.py from tensorflow/models.\n"
          ]
        }
      ]
    },
    {
      "cell_type": "code",
      "metadata": {
        "id": "4YiT39CthvGJ"
      },
      "source": [
        "train_data = mnist.train.images\n",
        "valid_data = mnist.validation.images\n",
        "eval_data = mnist.test.images\n",
        "\n",
        "train_labels = mnist.train.labels\n",
        "valid_labels = mnist.validation.labels\n",
        "eval_labels = mnist.test.labels"
      ],
      "execution_count": 10,
      "outputs": []
    },
    {
      "cell_type": "code",
      "metadata": {
        "colab": {
          "base_uri": "https://localhost:8080/"
        },
        "id": "JT1H1KTeswqQ",
        "outputId": "f89e5357-63e5-4887-b7f9-406f0bbfd40f"
      },
      "source": [
        "print(train_data.shape)\n",
        "print(train_labels.shape)"
      ],
      "execution_count": 11,
      "outputs": [
        {
          "output_type": "stream",
          "name": "stdout",
          "text": [
            "(55000, 784)\n",
            "(55000,)\n"
          ]
        }
      ]
    },
    {
      "cell_type": "code",
      "metadata": {
        "colab": {
          "base_uri": "https://localhost:8080/",
          "height": 316
        },
        "id": "hIX-3CTZs850",
        "outputId": "4ea822cc-5b35-4d39-9339-5e1cd07e0ec0"
      },
      "source": [
        "# Reshape to 2D multi-channel images\n",
        "train_data_2D = train_data.reshape([len(train_data),28,28,1]) # [batch_size, Nx, Ny, Nc]\n",
        "eval_data_2D = eval_data.reshape([len(eval_data),28,28,1])\n",
        "print(type(train_labels))\n",
        "# Plot the first sample\n",
        "plt.plot()\n",
        "plt.title('Digit = %d' % train_labels[0])\n",
        "plt.imshow(train_data_2D[0,:,:,0])"
      ],
      "execution_count": 12,
      "outputs": [
        {
          "output_type": "stream",
          "name": "stdout",
          "text": [
            "<class 'numpy.ndarray'>\n"
          ]
        },
        {
          "output_type": "execute_result",
          "data": {
            "text/plain": [
              "<matplotlib.image.AxesImage at 0x7f064fb76510>"
            ]
          },
          "metadata": {},
          "execution_count": 12
        },
        {
          "output_type": "display_data",
          "data": {
            "image/png": "[encoded data removed]",
            "text/plain": [
              "<Figure size 432x288 with 1 Axes>"
            ]
          },
          "metadata": {
            "needs_background": "light"
          }
        }
      ]
    },
    {
      "cell_type": "code",
      "metadata": {
        "id": "eQ1HHA_htB6W"
      },
      "source": [
        "train_data_2D = np.pad(train_data_2D,((0,0),(2,2),(2,2),(0,0)),'constant', constant_values=((0,0),(0,0),(0,0),(0,0)))\n",
        "eval_data_2D = np.pad(eval_data_2D,((0,0),(2,2),(2,2),(0,0)),'constant', constant_values=((0,0),(0,0),(0,0),(0,0)))"
      ],
      "execution_count": 13,
      "outputs": []
    },
    {
      "cell_type": "code",
      "metadata": {
        "id": "r8fkFktgtIgn"
      },
      "source": [
        "graph = tf.Graph()\n",
        "graph.as_default()\n",
        "tf.reset_default_graph()"
      ],
      "execution_count": 14,
      "outputs": []
    },
    {
      "cell_type": "code",
      "metadata": {
        "id": "DOEdJ64etPSB"
      },
      "source": [
        "Ntheta = 12 # Kernel size in angular direction\n",
        "Nxy=5       # Kernel size in spatial direction\n",
        "Nc = 4      # Number of channels in the initial layer\n",
        "NPZM = 14   # Number of PZM coefficients"
      ],
      "execution_count": 15,
      "outputs": []
    },
    {
      "cell_type": "code",
      "metadata": {
        "id": "LI1wR0tdtTXD"
      },
      "source": [
        "inputs_ph = tf.placeholder( dtype = tf.float32, shape = [None,32,32,1] )\n",
        "labels_ph = tf.placeholder( dtype = tf.int32, shape = [None,] )"
      ],
      "execution_count": 16,
      "outputs": []
    },
    {
      "cell_type": "code",
      "metadata": {
        "colab": {
          "base_uri": "https://localhost:8080/"
        },
        "id": "zt4iSuSttUzc",
        "outputId": "877c9d89-eb96-4def-88af-92f44fddc748"
      },
      "source": [
        "print(inputs_ph.shape)\n",
        "tensor_in = inputs_ph\n",
        "Nc_in = 1"
      ],
      "execution_count": 17,
      "outputs": [
        {
          "output_type": "stream",
          "name": "stdout",
          "text": [
            "(?, 32, 32, 1)\n"
          ]
        }
      ]
    },
    {
      "cell_type": "code",
      "metadata": {
        "id": "zHqWtyiFtXw5"
      },
      "source": [
        "kernels={}"
      ],
      "execution_count": 18,
      "outputs": []
    },
    {
      "cell_type": "code",
      "metadata": {
        "colab": {
          "base_uri": "https://localhost:8080/"
        },
        "id": "tn1EmdO4taSV",
        "outputId": "375bcad9-702a-4023-ba52-2c64e7c8cfcf"
      },
      "source": [
        "with tf.variable_scope(\"Layer_{}\".format(1)) as _scope:\n",
        "    ## Settings\n",
        "    Nc_out = Nc\n",
        "\n",
        "    ## Perform lifting convolution\n",
        "    # The kernels used in the lifting layer\n",
        "    kernels_raw = tf.get_variable(\n",
        "                        'kernel', \n",
        "                        [Nxy,Nxy,Nc_in,Nc_out],\n",
        "                        initializer=weight_initializer(Nxy*Nxy*Nc_in,Nc_out))\n",
        "    tf.add_to_collection('raw_kernels', kernels_raw)\n",
        "    bias = tf.get_variable( # Same bias for all orientations\n",
        "                        \"bias\",\n",
        "                        [1, 1, 1, 1, Nc_out], \n",
        "                        initializer=tf.constant_initializer(value=0.01))\n",
        "    # Lifting layer\n",
        "    tensor_out, kernels_formatted = se2cnn.layers.z2_se2n(\n",
        "                            input_tensor = tensor_in,\n",
        "                            kernel = kernels_raw,\n",
        "                            orientations_nb = Ntheta)\n",
        "    # Add bias\n",
        "    tensor_out = tensor_out + bias\n",
        "    \n",
        "    ## Perform (spatial) max-pooling\n",
        "    tensor_out = se2cnn.layers.spatial_max_pool( input_tensor=tensor_out, nbOrientations=Ntheta)\n",
        "    \n",
        "    ## Apply ReLU\n",
        "    tensor_out = tf.nn.relu(tensor_out)\n",
        "\n",
        "    ## Prepare for the next layer\n",
        "    tensor_in = tensor_out\n",
        "    Nc_in = Nc_out\n",
        "    \n",
        "    ## Save kernels for inspection\n",
        "    kernels[_scope.name] = kernels_formatted"
      ],
      "execution_count": 19,
      "outputs": [
        {
          "output_type": "stream",
          "name": "stdout",
          "text": [
            "Z2-SE2N BASE KERNEL SHAPE: (5, 5, 1, 4)\n",
            "WARNING:tensorflow:From /content/se2cnn/layers.py:222: The name tf.sparse_tensor_dense_matmul is deprecated. Please use tf.sparse.sparse_dense_matmul instead.\n",
            "\n",
            "Z2-SE2N ROTATED KERNEL SET SHAPE: (12, 5, 5, 1, 4)\n",
            "OUTPUT SE2N ACTIVATIONS SHAPE: (?, 28, 28, 12, 4)\n",
            "WARNING:tensorflow:From /content/se2cnn/layers.py:162: The name tf.nn.max_pool is deprecated. Please use tf.nn.max_pool2d instead.\n",
            "\n"
          ]
        }
      ]
    },
    {
      "cell_type": "code",
      "metadata": {
        "colab": {
          "base_uri": "https://localhost:8080/"
        },
        "id": "QogUHVz-togw",
        "outputId": "1b72baf2-6a3b-4900-8d27-f9e8db947717"
      },
      "source": [
        "with tf.variable_scope(\"Layer_{}\".format(2)) as _scope:\n",
        "    ## Settings\n",
        "    Nc_out = 2*Nc\n",
        "\n",
        "    ## Perform group convolution\n",
        "    # The kernels used in the group convolution layer\n",
        "    kernels_raw = tf.get_variable(\n",
        "                        'kernel', \n",
        "                        [Nxy,Nxy,Ntheta,Nc_in,Nc_out],\n",
        "                        initializer=weight_initializer(Nxy*Nxy*Ntheta*Nc_in,Nc_out))\n",
        "    tf.add_to_collection('raw_kernels', kernels_raw)\n",
        "    bias = tf.get_variable( # Same bias for all orientations\n",
        "                        \"bias\",\n",
        "                        [1, 1, 1, 1, Nc_out], \n",
        "                        initializer=tf.constant_initializer(value=0.01))\n",
        "    # The group convolution layer\n",
        "    tensor_out, kernels_formatted = se2cnn.layers.se2n_se2n(\n",
        "                            input_tensor = tensor_in,\n",
        "                            kernel = kernels_raw)\n",
        "    tensor_out = tensor_out + bias\n",
        "    \n",
        "    ## Perform max-pooling\n",
        "    tensor_out = se2cnn.layers.spatial_max_pool( input_tensor=tensor_out, nbOrientations=Ntheta)\n",
        "    \n",
        "    ## Apply ReLU\n",
        "    tensor_out = tf.nn.relu(tensor_out)\n",
        "\n",
        "    ## Prepare for the next layer\n",
        "    tensor_in = tensor_out\n",
        "    Nc_in = Nc_out\n",
        "    \n",
        "    ## Save kernels for inspection\n",
        "    kernels[_scope.name] = kernels_formatted"
      ],
      "execution_count": 20,
      "outputs": [
        {
          "output_type": "stream",
          "name": "stdout",
          "text": [
            "SE2N-SE2N BASE KERNEL SHAPE: (5, 5, 12, 4, 8)\n",
            "SE2N-SE2N ROTATED KERNEL SET SHAPE: (12, 5, 5, 12, 4, 8)\n",
            "OUTPUT SE2N ACTIVATIONS SHAPE: (?, 10, 10, 12, 8)\n"
          ]
        }
      ]
    },
    {
      "cell_type": "code",
      "metadata": {
        "id": "smRyznDlt0bF"
      },
      "source": [
        "# Concatenate the orientation and channel dimension\n",
        "tensor_in = tf.concat([tensor_in[:,:,:,i,:] for i in range(Ntheta)],3)\n",
        "Nc_in = tensor_in.get_shape().as_list()[-1]\n",
        "\n",
        "# 2D convolution layer\n",
        "with tf.variable_scope(\"Layer_{}\".format(3)) as _scope:\n",
        "    ## Settings\n",
        "    Nc_out = 128\n",
        "\n",
        "    ## Perform group convolution\n",
        "    # The kernels used in the group convolution layer\n",
        "    kernels_raw = tf.get_variable(\n",
        "                        'kernel', \n",
        "                        [Nxy,Nxy,Nc_in,Nc_out],\n",
        "                        initializer=weight_initializer(Nxy*Nxy*Nc_in,Nc_out))\n",
        "    tf.add_to_collection('raw_kernels', kernels_raw)\n",
        "    bias = tf.get_variable( # Same bias for all orientations\n",
        "                        \"bias\",\n",
        "                        [1, 1, 1, Nc_out], \n",
        "                        initializer=tf.constant_initializer(value=0.01))\n",
        "    # Convolution layer\n",
        "    tensor_out = tf.nn.conv2d(\n",
        "                        input = tensor_in,\n",
        "                        filter=kernels_raw,\n",
        "                        strides=[1, 1, 1, 1],\n",
        "                        padding=\"SAME\")\n",
        "    tensor_out = tensor_out + bias\n",
        "    \n",
        "    ## Apply ReLU\n",
        "    tensor_out = tf.nn.relu(tensor_out)\n",
        "\n",
        "    ## Prepare for the next layer\n",
        "    tensor_in = tensor_out\n",
        "    Nc_in = Nc_out\n",
        "    \n",
        "    ## Save kernels for inspection\n",
        "    kernels[_scope.name] = kernels_raw"
      ],
      "execution_count": 21,
      "outputs": []
    },
    {
      "cell_type": "code",
      "metadata": {
        "id": "RtSP7msJuFhS"
      },
      "source": [
        "# 2D convolution layer\n",
        "with tf.variable_scope(\"Layer_{}\".format(4)) as _scope:\n",
        "    ## Settings\n",
        "    Nc_out = 128\n",
        "    Nc_in = 14*128\n",
        "    ## Perform group convolution\n",
        "    # The kernels used in the group convolution layer\n",
        "    kernels_raw = tf.get_variable(\n",
        "                        'kernel', \n",
        "                        [Nc_in,Nc_out],\n",
        "                        initializer=weight_initializer(Nc_in,Nc_out))\n",
        "    tf.add_to_collection('raw_kernels', kernels_raw)\n",
        "    bias = tf.get_variable( # Same bias for all orientations\n",
        "                        \"bias\",\n",
        "                        [1, Nc_out], \n",
        "                        initializer=tf.constant_initializer(value=0.01))\n",
        "    \n",
        "    ## PZMs-based layer to transform the tensors invariant to rotation, \n",
        "    ## reflection and translation.\n",
        "    tensor_out = PZM(tensor_in)\n",
        "    tensor_out = tf.add(tf.matmul(tensor_out, kernels_raw), bias)\n",
        "    tensor_out = tf.nn.relu(tensor_out)\n",
        "    \n",
        "    ## Prepare for the next layer\n",
        "    tensor_in = tensor_out\n",
        "    Nc_in = Nc_out\n",
        "    \n",
        "    ## Save kernels for inspection\n",
        "    kernels[_scope.name] = kernels_raw"
      ],
      "execution_count": 22,
      "outputs": []
    },
    {
      "cell_type": "code",
      "metadata": {
        "id": "wehbP1-v6E3H"
      },
      "source": [
        "with tf.variable_scope(\"Layer_{}\".format(5)) as _scope:\n",
        "    ## Settings\n",
        "    Nc_out = 10\n",
        "\n",
        "    ## Perform group convolution\n",
        "    # The kernels used in the group convolution layer\n",
        "    kernels_raw = tf.get_variable(\n",
        "                        'kernel', \n",
        "                        [Nc_in,Nc_out],\n",
        "                        initializer=weight_initializer(Nc_in,Nc_out))\n",
        "    tf.add_to_collection('raw_kernels', kernels_raw)\n",
        "    bias = tf.get_variable( # Same bias for all orientations\n",
        "                        \"bias\",\n",
        "                        [1, Nc_out], \n",
        "                        initializer=tf.constant_initializer(value=0.01))\n",
        "\n",
        "    # finally we multiply the fully connected layer with the weights and add a bias term. \n",
        "    tensor_out = tf.add(tf.matmul(tensor_in, kernels_raw), bias) \n",
        "        \n",
        "    ## The output logits\n",
        "    logits = tensor_out\n",
        "    predictions = tf.argmax(input=logits, axis=1)\n",
        "    probabilities = tf.nn.softmax(logits)\n",
        "    \n",
        "    ## Save the kernels for later inspection\n",
        "    kernels[_scope.name] = kernels_raw"
      ],
      "execution_count": 23,
      "outputs": []
    },
    {
      "cell_type": "code",
      "metadata": {
        "colab": {
          "base_uri": "https://localhost:8080/"
        },
        "id": "zQa9UjsTuPPR",
        "outputId": "fdb826bd-38f0-4223-d7d3-b88bd24a2716"
      },
      "source": [
        "# Cross-entropy loss\n",
        "loss = tf.losses.sparse_softmax_cross_entropy(labels=labels_ph, logits=logits)"
      ],
      "execution_count": 24,
      "outputs": [
        {
          "output_type": "stream",
          "name": "stdout",
          "text": [
            "WARNING:tensorflow:From /usr/local/lib/python3.7/dist-packages/tensorflow_core/python/ops/losses/losses_impl.py:121: where (from tensorflow.python.ops.array_ops) is deprecated and will be removed in a future version.\n",
            "Instructions for updating:\n",
            "Use tf.where in 2.0, which has the same broadcast rule as np.where\n"
          ]
        }
      ]
    },
    {
      "cell_type": "code",
      "metadata": {
        "colab": {
          "base_uri": "https://localhost:8080/"
        },
        "id": "K_YZcbYhuStZ",
        "outputId": "7d42474f-5637-4c73-f6bb-4f5eacb1c4bf"
      },
      "source": [
        "#-- Define the l2 loss \n",
        "weightDecay=5e-4\n",
        "# Get the raw kernels\n",
        "variables_wd = tf.get_collection('raw_kernels')\n",
        "print('-----')\n",
        "print('RAW kernel shapes:')\n",
        "for v in variables_wd: print( \"[{}]: {}, total nr of weights = {}\".format(v.name, v.get_shape(), size_of(v)))\n",
        "print('-----')\n",
        "loss_l2 = weightDecay*sum([tf.nn.l2_loss(ker) for ker in variables_wd])"
      ],
      "execution_count": 25,
      "outputs": [
        {
          "output_type": "stream",
          "name": "stdout",
          "text": [
            "-----\n",
            "RAW kernel shapes:\n",
            "[Layer_1/kernel:0]: (5, 5, 1, 4), total nr of weights = 100\n",
            "[Layer_2/kernel:0]: (5, 5, 12, 4, 8), total nr of weights = 9600\n",
            "[Layer_3/kernel:0]: (5, 5, 96, 128), total nr of weights = 307200\n",
            "[Layer_4/kernel:0]: (1792, 128), total nr of weights = 229376\n",
            "[Layer_5/kernel:0]: (128, 10), total nr of weights = 1280\n",
            "-----\n"
          ]
        }
      ]
    },
    {
      "cell_type": "code",
      "metadata": {
        "id": "ZaYo78ApuWHu"
      },
      "source": [
        "# Configure the Training Op (for TRAIN mode)\n",
        "optimizer = tf.train.AdamOptimizer(learning_rate=0.001)\n",
        "\n",
        "train_op = optimizer.minimize(\n",
        "    loss=loss + loss_l2,\n",
        "    global_step=tf.train.get_global_step())"
      ],
      "execution_count": 26,
      "outputs": []
    },
    {
      "cell_type": "code",
      "metadata": {
        "id": "z8vStqpSuZxl"
      },
      "source": [
        "#-- Start the (GPU) session\n",
        "initializer = tf.global_variables_initializer()\n",
        "session = tf.Session(graph=tf.get_default_graph()) #-- Session created\n",
        "session.run(initializer)"
      ],
      "execution_count": 27,
      "outputs": []
    },
    {
      "cell_type": "code",
      "metadata": {
        "id": "n7PtSDb-udhf"
      },
      "source": [
        "batch_size=100\n",
        "n_epochs=10"
      ],
      "execution_count": 28,
      "outputs": []
    },
    {
      "cell_type": "code",
      "metadata": {
        "colab": {
          "base_uri": "https://localhost:8080/"
        },
        "id": "bwmA_V-zugyO",
        "outputId": "190e0777-a485-459f-fb93-afc985257539"
      },
      "source": [
        "for epoch_nr in range(n_epochs):\n",
        "    loss_average = 0\n",
        "    data = train_data_2D\n",
        "    labels = train_labels\n",
        "    # KBatch settings\n",
        "    NItPerEpoch = m.floor(len(data)/batch_size) #number of iterations per epoch\n",
        "    samples=np.random.permutation(len(data))\n",
        "    # Loop over dataset\n",
        "    tStart = time.time()\n",
        "    for iteration in range(NItPerEpoch):\n",
        "        feed_dict = {\n",
        "                inputs_ph: np.array(data[samples[iteration*batch_size:(iteration+1)*batch_size]]),\n",
        "                labels_ph: np.array(labels[samples[iteration*batch_size:(iteration+1)*batch_size]])\n",
        "                }\n",
        "        operators_output = session.run([ loss , train_op ], feed_dict)\n",
        "        loss_average += operators_output[0]/NItPerEpoch\n",
        "    tElapsed = time.time() - tStart\n",
        "    print('Epoch ' , epoch_nr , ' finished... Average loss = ' , round(loss_average,4) , ', time = ',round(tElapsed,4))"
      ],
      "execution_count": 29,
      "outputs": [
        {
          "output_type": "stream",
          "name": "stdout",
          "text": [
            "Epoch  0  finished... Average loss =  0.1475 , time =  23.0781\n",
            "Epoch  1  finished... Average loss =  0.0437 , time =  19.2028\n",
            "Epoch  2  finished... Average loss =  0.0323 , time =  19.2025\n",
            "Epoch  3  finished... Average loss =  0.028 , time =  19.1991\n",
            "Epoch  4  finished... Average loss =  0.0252 , time =  19.2441\n",
            "Epoch  5  finished... Average loss =  0.0239 , time =  19.3075\n",
            "Epoch  6  finished... Average loss =  0.0217 , time =  19.2643\n",
            "Epoch  7  finished... Average loss =  0.0207 , time =  19.3\n",
            "Epoch  8  finished... Average loss =  0.0192 , time =  19.2865\n",
            "Epoch  9  finished... Average loss =  0.0186 , time =  19.2609\n"
          ]
        }
      ]
    },
    {
      "cell_type": "code",
      "metadata": {
        "id": "cLbHI0PYwym5"
      },
      "source": [
        "batch_size = 1000\n",
        "labels_pred = []\n",
        "for i in range(round(len(eval_data_2D)/batch_size)):\n",
        "    [ labels_pred_batch ] = session.run([ predictions ], { inputs_ph: eval_data_2D[i*batch_size:(i+1)*batch_size] })\n",
        "    labels_pred = labels_pred + list(labels_pred_batch)\n",
        "labels_pred = np.array(labels_pred)"
      ],
      "execution_count": 30,
      "outputs": []
    },
    {
      "cell_type": "code",
      "metadata": {
        "colab": {
          "base_uri": "https://localhost:8080/"
        },
        "id": "9utvNfz5w0jm",
        "outputId": "c96e8e3f-21d6-472e-d94d-a09fb38591e4"
      },
      "source": [
        "print(labels_pred[0:10])\n",
        "print(eval_labels[0:10])"
      ],
      "execution_count": 31,
      "outputs": [
        {
          "output_type": "stream",
          "name": "stdout",
          "text": [
            "[7 2 1 0 4 1 4 9 5 9]\n",
            "[7 2 1 0 4 1 4 9 5 9]\n"
          ]
        }
      ]
    },
    {
      "cell_type": "code",
      "metadata": {
        "colab": {
          "base_uri": "https://localhost:8080/"
        },
        "id": "B-FGp8hYw6wr",
        "outputId": "987b071d-dc89-4d8b-c042-0e76bc41d85e"
      },
      "source": [
        "((labels_pred - eval_labels)**2==0).astype(float).mean()"
      ],
      "execution_count": 32,
      "outputs": [
        {
          "output_type": "execute_result",
          "data": {
            "text/plain": [
              "0.9908"
            ]
          },
          "metadata": {},
          "execution_count": 32
        }
      ]
    },
    {
      "cell_type": "code",
      "metadata": {
        "colab": {
          "base_uri": "https://localhost:8080/",
          "height": 328
        },
        "id": "gEDWQJxnxJaH",
        "outputId": "ca761ff9-4bdb-4dd5-ffc6-6f5644dea8fd"
      },
      "source": [
        "cm = confusion_matrix(eval_labels, labels_pred)\n",
        "plot_confusion_matrix(cm, range(10))"
      ],
      "execution_count": 33,
      "outputs": [
        {
          "output_type": "stream",
          "name": "stdout",
          "text": [
            "Confusion matrix, without normalization\n"
          ]
        },
        {
          "output_type": "display_data",
          "data": {
            "image/png": "[encoded data removed]",
            "text/plain": [
              "<Figure size 432x288 with 2 Axes>"
            ]
          },
          "metadata": {
            "needs_background": "light"
          }
        }
      ]
    }
  ]
}